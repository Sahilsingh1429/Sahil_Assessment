{
 "cells": [
  {
   "cell_type": "code",
   "execution_count": 96,
   "id": "8340d43c",
   "metadata": {},
   "outputs": [],
   "source": [
    "class Admin:\n",
    "    def __init__(self):\n",
    "        self.managers=[]\n",
    "        self.medicines=[]\n",
    "        \n",
    "    def register(self,username,password):\n",
    "        self.managers.append({'username': username, 'password': password})\n",
    "        print(\"Registration successful!\")\n",
    "        \n",
    "    def login(self,username,password):\n",
    "        for manager in self.managers:\n",
    "            if manager['username']==username and manager['password']==password:\n",
    "                print(\"Login Sucessfully\")\n",
    "                return False\n",
    "            print(\"Credentials\")\n",
    "            return True\n",
    "        \n",
    "    def view_all_managers(self):\n",
    "        print(\"All Managers:\")\n",
    "        for manager in self.managers:\n",
    "            print(f\"username:{manager['username']}\")\n",
    "        \n",
    "    def view_all_medicines(self):\n",
    "        print(\"All Medicines:\")\n",
    "        for medicine in self.medicines:\n",
    "            print(f\"Name:{medicine['name']},Price:{medicine['price']}\")\n",
    "            \n",
    "    def add_sample_data(self):\n",
    "        self.managers.append({'username': 'Ronak231', 'password': 'Ronak123'})\n",
    "        self.managers.append({'username': 'Sailesh', 'Parekh': 'Sailesh'})\n",
    "        self.medicines.append({'name': 'Metformin', 'price': 10.99})\n",
    "        self.medicines.append({'name': 'Lisinoprill', 'price': 15.99})\n",
    "        self.medicines.append({'name': 'Amlodipine', 'price': 25.89})\n",
    "        \n",
    "        "
   ]
  },
  {
   "cell_type": "code",
   "execution_count": 97,
   "id": "62f19bc0",
   "metadata": {},
   "outputs": [],
   "source": [
    "a1=Admin()"
   ]
  },
  {
   "cell_type": "code",
   "execution_count": 98,
   "id": "0e895bdd",
   "metadata": {},
   "outputs": [],
   "source": [
    "a1.add_sample_data()"
   ]
  },
  {
   "cell_type": "code",
   "execution_count": 99,
   "id": "488399d1",
   "metadata": {},
   "outputs": [
    {
     "name": "stdout",
     "output_type": "stream",
     "text": [
      "Registration successful!\n"
     ]
    }
   ],
   "source": [
    "# register\n",
    "a1.register(\"Sailesh321\",123)"
   ]
  },
  {
   "cell_type": "code",
   "execution_count": 100,
   "id": "b7e232b9",
   "metadata": {},
   "outputs": [
    {
     "name": "stdout",
     "output_type": "stream",
     "text": [
      "Credentials\n",
      "All Managers:\n",
      "username:Ronak231\n",
      "username:Sailesh\n",
      "username:Sailesh321\n"
     ]
    }
   ],
   "source": [
    "# login\n",
    "\n",
    "if a1.login(\"Sailesh\",123):\n",
    "    # View all managers\n",
    "        a1.view_all_managers()"
   ]
  },
  {
   "cell_type": "code",
   "execution_count": 101,
   "id": "3bab2b36",
   "metadata": {},
   "outputs": [
    {
     "name": "stdout",
     "output_type": "stream",
     "text": [
      "All Medicines:\n",
      "Name:Metformin,Price:10.99\n",
      "Name:Lisinoprill,Price:15.99\n",
      "Name:Amlodipine,Price:25.89\n"
     ]
    }
   ],
   "source": [
    "a1.view_all_medicines()"
   ]
  },
  {
   "cell_type": "code",
   "execution_count": 103,
   "id": "b34536ee",
   "metadata": {},
   "outputs": [
    {
     "name": "stdout",
     "output_type": "stream",
     "text": [
      "Credentials\n"
     ]
    },
    {
     "data": {
      "text/plain": [
       "True"
      ]
     },
     "execution_count": 103,
     "metadata": {},
     "output_type": "execute_result"
    }
   ],
   "source": [
    "a1.login(\"Sailesh321\",123)"
   ]
  },
  {
   "cell_type": "code",
   "execution_count": 121,
   "id": "6bba9839",
   "metadata": {},
   "outputs": [],
   "source": [
    "class PharmacyManager:\n",
    "    def __init__(self):\n",
    "        self.users = []\n",
    "        self.medicines = []\n",
    "\n",
    "    def register(self, username, password):\n",
    "        self.users.append({'username': username, 'password': password})\n",
    "        print(\"Registration successful!\")\n",
    "\n",
    "    def login(self, username, password):\n",
    "        for user in self.users:\n",
    "            if user['username'] == username and user['password'] == password:\n",
    "                print(\"Login successful!\")\n",
    "                return True\n",
    "        print(\"Invalid credentials.\")\n",
    "        return False\n",
    "\n",
    "    def add_medicine(self, name, price):\n",
    "        self.medicines.append({'name': name, 'price': price})\n",
    "        print(\"Medicine added successfully!\")\n",
    "\n",
    "    def view_medicines(self):\n",
    "        if self.medicines:\n",
    "            print(\"All Medicines:\")\n",
    "            for i, medicine in enumerate(self.medicines):\n",
    "                print(f\"{i + 1}. Name: {medicine['name']}, Price: {medicine['price']}\")\n",
    "        else:\n",
    "            print(\"No medicines found.\")\n",
    "\n",
    "    def delete_medicine(self, medicine_index):\n",
    "        if 1 <= medicine_index <= len(self.medicines):\n",
    "            del self.medicines[medicine_index - 1]\n",
    "            print(\"Medicine deleted successfully!\")\n",
    "        else:\n",
    "            print(\"Invalid medicine index.\")\n",
    "\n",
    "    def add_sample_data(self):\n",
    "        self.users.append({'username': 'rohit', 'password': 23432})\n",
    "        self.users.append({'username': 'Niraj', 'password': 123456})\n",
    "        self.medicines.append({'name': 'Amoxicilin', 'price': 10.99})\n",
    "        self.medicines.append({'name': 'Addreall', 'price': 15.99})\n",
    "\n",
    "\n"
   ]
  },
  {
   "cell_type": "code",
   "execution_count": 122,
   "id": "f370b4a0",
   "metadata": {},
   "outputs": [],
   "source": [
    "pm = PharmacyManager()"
   ]
  },
  {
   "cell_type": "code",
   "execution_count": 123,
   "id": "ee4d8f9a",
   "metadata": {},
   "outputs": [],
   "source": [
    "pm.add_sample_data()"
   ]
  },
  {
   "cell_type": "code",
   "execution_count": 124,
   "id": "45066ec3",
   "metadata": {},
   "outputs": [
    {
     "name": "stdout",
     "output_type": "stream",
     "text": [
      "Medicine added successfully!\n"
     ]
    }
   ],
   "source": [
    "pm.add_medicine(\"Ativian\",149)"
   ]
  },
  {
   "cell_type": "code",
   "execution_count": 125,
   "id": "7e3f5e78",
   "metadata": {},
   "outputs": [],
   "source": [
    "pm.add_sample_data()"
   ]
  },
  {
   "cell_type": "code",
   "execution_count": 126,
   "id": "6796a1fe",
   "metadata": {},
   "outputs": [
    {
     "name": "stdout",
     "output_type": "stream",
     "text": [
      "Registration successful!\n"
     ]
    }
   ],
   "source": [
    "pm.register(\"ronakk\",12345)"
   ]
  },
  {
   "cell_type": "code",
   "execution_count": 127,
   "id": "9bf546ea",
   "metadata": {},
   "outputs": [
    {
     "name": "stdout",
     "output_type": "stream",
     "text": [
      "Login successful!\n"
     ]
    },
    {
     "data": {
      "text/plain": [
       "True"
      ]
     },
     "execution_count": 127,
     "metadata": {},
     "output_type": "execute_result"
    }
   ],
   "source": [
    "pm.login(\"ronakk\",12345)"
   ]
  },
  {
   "cell_type": "code",
   "execution_count": 128,
   "id": "7135378f",
   "metadata": {},
   "outputs": [
    {
     "data": {
      "text/plain": [
       "[{'name': 'Amoxicilin', 'price': 10.99},\n",
       " {'name': 'Addreall', 'price': 15.99},\n",
       " {'name': 'Ativian', 'price': 149},\n",
       " {'name': 'Amoxicilin', 'price': 10.99},\n",
       " {'name': 'Addreall', 'price': 15.99}]"
      ]
     },
     "execution_count": 128,
     "metadata": {},
     "output_type": "execute_result"
    }
   ],
   "source": [
    "pm.medicines"
   ]
  },
  {
   "cell_type": "code",
   "execution_count": 129,
   "id": "81bce74d",
   "metadata": {},
   "outputs": [
    {
     "data": {
      "text/plain": [
       "[{'username': 'rohit', 'password': 23432},\n",
       " {'username': 'Niraj', 'password': 123456},\n",
       " {'username': 'rohit', 'password': 23432},\n",
       " {'username': 'Niraj', 'password': 123456},\n",
       " {'username': 'ronakk', 'password': 12345}]"
      ]
     },
     "execution_count": 129,
     "metadata": {},
     "output_type": "execute_result"
    }
   ],
   "source": [
    "pm.users"
   ]
  },
  {
   "cell_type": "code",
   "execution_count": 131,
   "id": "dc8d4e4f",
   "metadata": {},
   "outputs": [
    {
     "name": "stdout",
     "output_type": "stream",
     "text": [
      "All Medicines:\n",
      "1. Name: Amoxicilin, Price: 10.99\n",
      "2. Name: Addreall, Price: 15.99\n",
      "3. Name: Ativian, Price: 149\n",
      "4. Name: Amoxicilin, Price: 10.99\n",
      "5. Name: Addreall, Price: 15.99\n"
     ]
    }
   ],
   "source": [
    "pm.view_medicines()"
   ]
  },
  {
   "cell_type": "code",
   "execution_count": 134,
   "id": "b7eda849",
   "metadata": {},
   "outputs": [
    {
     "name": "stdout",
     "output_type": "stream",
     "text": [
      "Medicine deleted successfully!\n"
     ]
    }
   ],
   "source": [
    "pm.delete_medicine(1)"
   ]
  },
  {
   "cell_type": "code",
   "execution_count": 135,
   "id": "5671f4e6",
   "metadata": {},
   "outputs": [
    {
     "name": "stdout",
     "output_type": "stream",
     "text": [
      "All Medicines:\n",
      "1. Name: Addreall, Price: 15.99\n",
      "2. Name: Ativian, Price: 149\n",
      "3. Name: Amoxicilin, Price: 10.99\n",
      "4. Name: Addreall, Price: 15.99\n"
     ]
    }
   ],
   "source": [
    "pm.view_medicines()"
   ]
  },
  {
   "cell_type": "code",
   "execution_count": null,
   "id": "1ff1e04b",
   "metadata": {},
   "outputs": [],
   "source": []
  }
 ],
 "metadata": {
  "kernelspec": {
   "display_name": "Python 3 (ipykernel)",
   "language": "python",
   "name": "python3"
  },
  "language_info": {
   "codemirror_mode": {
    "name": "ipython",
    "version": 3
   },
   "file_extension": ".py",
   "mimetype": "text/x-python",
   "name": "python",
   "nbconvert_exporter": "python",
   "pygments_lexer": "ipython3",
   "version": "3.9.12"
  }
 },
 "nbformat": 4,
 "nbformat_minor": 5
}
